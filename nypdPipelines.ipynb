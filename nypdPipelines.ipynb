{
  "nbformat": 4,
  "nbformat_minor": 0,
  "metadata": {
    "kernelspec": {
      "display_name": "Python 3",
      "language": "python",
      "name": "python3"
    },
    "language_info": {
      "codemirror_mode": {
        "name": "ipython",
        "version": 3
      },
      "file_extension": ".py",
      "mimetype": "text/x-python",
      "name": "python",
      "nbconvert_exporter": "python",
      "pygments_lexer": "ipython3",
      "version": "3.7.4"
    },
    "colab": {
      "name": "nypd.ipynb",
      "provenance": [],
      "collapsed_sections": [],
      "toc_visible": true
    }
  },
  "cells": [
    {
      "cell_type": "markdown",
      "metadata": {
        "id": "mLt6HlJa0mCW"
      },
      "source": [
        "# NYPD Allegations\n",
        "* See Project 03 for information on the dataset.\n",
        "* A few example prediction questions to pursue are listed below. However, don't limit yourself to them!\n",
        "    * Predict the outcome of an allegation (might need to feature engineer your output column).\n",
        "    * Predict the complainant or officer ethnicity.\n",
        "    * Predict the amount of time between the month received vs month closed (difference of the two columns).\n",
        "    * Predict the rank of the officer.\n",
        "\n",
        "Be careful to justify what information you would know at the \"time of prediction\" and train your model using only those features."
      ]
    },
    {
      "cell_type": "markdown",
      "metadata": {
        "id": "qGxWZVjc0mCa"
      },
      "source": [
        "# Summary of Findings\n",
        "\n",
        "\n",
        "### **Introduction**\n",
        "For our project, since we are dealing with a dataset provided by the New York Police Department, we have decided to come up with the following question: \n",
        "> \n",
        "__Are we able to predict the age of the Complainant?__\n",
        "> \n",
        "This question is a Regression problem because we are predicting continuous, real values: a person's age. \n",
        "Our target variable will be the age of the complainant (\"complainant_age_incident\"), and our evaluation metrics will be R^2 and the Root Means Squared Error (RMSE).\n",
        "\n",
        "\n",
        "\n",
        "### **Baseline Model**\n",
        "For our baseline model, we decided to add 3 features from the dataset: the officer's age (Quantitative), officer's gender (Nominal), and complainant's gender (Nominal), in order to predict the complainant's age. \n",
        "> \n",
        "Our baseline model's R^2 was ~1.64%, and the RMSE was ~11.95. These results at first glance don't look good, but with our Final Model we can further compare if these values are truly good or not good.\n",
        "\n",
        "\n",
        "### **Final Model**\n",
        "For our Final Model, we went ahead and added two new engineered features. We decided to apply two different types of transformers on the officer age column: A Standardizer (z-scaler), and a Binarizer that approximately differs between old and young age. By applying these transformers, we can see just how important the officer age column is to our predictions, by applying two different transformers on it. \n",
        "> \n",
        "We have chosen a DecisionTreeRegressor, because this regressor model uses decision trees to fit the patterns in the data, proving that decision trees are definitely not restricted to just Classification problems. They also provide a handful of parameters to test combinations in a Grid Search. Upon running a grid search on 4 parameter variables from DecisionTreeRegressor, we found that the best parameter combination was: {'max_depth':13, 'min_samples_leaf':2, 'min_samples_split':2, 'max_leaf_nodes':40}. In terms of model selection, we decided on two; either LinearRegression or DecisionTreeRegressor. We ultimately went with DecisionTreeRegressor because we knew that this would provide us with the flexibility of multiple parameter combinations, in order to run GridSearchCV.\n",
        "\n",
        "### **Fairness Evaluation**\n",
        "For our Fairness Evaluation, we wanted to look at the subset of old officers vs young ones using a permutation test. We used the difference in R^2 values as a parity measure because we are looking at a regression question as opposed to a classification one. This works as an accuracy parity measure because this allows to check that the classifier is performing equally well among the two groups. With the threshold being 30 years old, we separated the subsets into old officers and young ones. The Null Hypothesis was that the model is fair and that the R^2 values of the two groups are similar. The Alternate Hypothesis was that the model is unfair as the R^2 values would not be close to each other. After running the permutation test with 100 repetitions and setting the significance level at 0.05, we failed to reject the Null Hypothesis as we obtained a P-value of about 0.42 and 0.42 > 0.05. This leads us to believe that the model we have created is fair when looking at the subset of the two different age groups of officers."
      ]
    },
    {
      "cell_type": "markdown",
      "metadata": {
        "id": "MN3oogrm0mCd"
      },
      "source": [
        "# Code"
      ]
    },
    {
      "cell_type": "code",
      "metadata": {
        "id": "y91q4WjK0mCh"
      },
      "source": [
        "import matplotlib.pyplot as plt\n",
        "import numpy as np\n",
        "import os\n",
        "import pandas as pd\n",
        "import seaborn as sns\n",
        "%matplotlib inline\n",
        "%config InlineBackend.figure_format = 'retina'  # Higher resolution figures"
      ],
      "execution_count": null,
      "outputs": []
    },
    {
      "cell_type": "markdown",
      "metadata": {
        "id": "7jmDUzg6uo1g"
      },
      "source": [
        "Here, we will be cleaning up basic missing values by replacing string values \"Unknown\" as missing, np.nan:"
      ]
    },
    {
      "cell_type": "code",
      "metadata": {
        "id": "Z1v9KZsS0pVF",
        "colab": {
          "base_uri": "https://localhost:8080/",
          "height": 377
        },
        "outputId": "372660b3-d38e-44e7-a2e8-14046a0e8be9"
      },
      "source": [
        "data_fp = os.path.join('sample_data', 'allegations_202007271729.csv')\n",
        "data = pd.read_csv(data_fp)\n",
        "# Replacing all \"Unknwon\" values with nulls.\n",
        "cleaned = data.replace('Unknown', np.NaN)\n",
        "cleaned.head()"
      ],
      "execution_count": null,
      "outputs": [
        {
          "output_type": "execute_result",
          "data": {
            "text/html": [
              "<div>\n",
              "<style scoped>\n",
              "    .dataframe tbody tr th:only-of-type {\n",
              "        vertical-align: middle;\n",
              "    }\n",
              "\n",
              "    .dataframe tbody tr th {\n",
              "        vertical-align: top;\n",
              "    }\n",
              "\n",
              "    .dataframe thead th {\n",
              "        text-align: right;\n",
              "    }\n",
              "</style>\n",
              "<table border=\"1\" class=\"dataframe\">\n",
              "  <thead>\n",
              "    <tr style=\"text-align: right;\">\n",
              "      <th></th>\n",
              "      <th>unique_mos_id</th>\n",
              "      <th>first_name</th>\n",
              "      <th>last_name</th>\n",
              "      <th>command_now</th>\n",
              "      <th>shield_no</th>\n",
              "      <th>complaint_id</th>\n",
              "      <th>month_received</th>\n",
              "      <th>year_received</th>\n",
              "      <th>month_closed</th>\n",
              "      <th>year_closed</th>\n",
              "      <th>command_at_incident</th>\n",
              "      <th>rank_abbrev_incident</th>\n",
              "      <th>rank_abbrev_now</th>\n",
              "      <th>rank_now</th>\n",
              "      <th>rank_incident</th>\n",
              "      <th>mos_ethnicity</th>\n",
              "      <th>mos_gender</th>\n",
              "      <th>mos_age_incident</th>\n",
              "      <th>complainant_ethnicity</th>\n",
              "      <th>complainant_gender</th>\n",
              "      <th>complainant_age_incident</th>\n",
              "      <th>fado_type</th>\n",
              "      <th>allegation</th>\n",
              "      <th>precinct</th>\n",
              "      <th>contact_reason</th>\n",
              "      <th>outcome_description</th>\n",
              "      <th>board_disposition</th>\n",
              "    </tr>\n",
              "  </thead>\n",
              "  <tbody>\n",
              "    <tr>\n",
              "      <th>0</th>\n",
              "      <td>10004</td>\n",
              "      <td>Jonathan</td>\n",
              "      <td>Ruiz</td>\n",
              "      <td>078 PCT</td>\n",
              "      <td>8409</td>\n",
              "      <td>42835</td>\n",
              "      <td>7</td>\n",
              "      <td>2019</td>\n",
              "      <td>5</td>\n",
              "      <td>2020</td>\n",
              "      <td>078 PCT</td>\n",
              "      <td>POM</td>\n",
              "      <td>POM</td>\n",
              "      <td>Police Officer</td>\n",
              "      <td>Police Officer</td>\n",
              "      <td>Hispanic</td>\n",
              "      <td>M</td>\n",
              "      <td>32</td>\n",
              "      <td>Black</td>\n",
              "      <td>Female</td>\n",
              "      <td>38.0</td>\n",
              "      <td>Abuse of Authority</td>\n",
              "      <td>Failure to provide RTKA card</td>\n",
              "      <td>78.0</td>\n",
              "      <td>Report-domestic dispute</td>\n",
              "      <td>No arrest made or summons issued</td>\n",
              "      <td>Substantiated (Command Lvl Instructions)</td>\n",
              "    </tr>\n",
              "    <tr>\n",
              "      <th>1</th>\n",
              "      <td>10007</td>\n",
              "      <td>John</td>\n",
              "      <td>Sears</td>\n",
              "      <td>078 PCT</td>\n",
              "      <td>5952</td>\n",
              "      <td>24601</td>\n",
              "      <td>11</td>\n",
              "      <td>2011</td>\n",
              "      <td>8</td>\n",
              "      <td>2012</td>\n",
              "      <td>PBBS</td>\n",
              "      <td>POM</td>\n",
              "      <td>POM</td>\n",
              "      <td>Police Officer</td>\n",
              "      <td>Police Officer</td>\n",
              "      <td>White</td>\n",
              "      <td>M</td>\n",
              "      <td>24</td>\n",
              "      <td>Black</td>\n",
              "      <td>Male</td>\n",
              "      <td>26.0</td>\n",
              "      <td>Discourtesy</td>\n",
              "      <td>Action</td>\n",
              "      <td>67.0</td>\n",
              "      <td>Moving violation</td>\n",
              "      <td>Moving violation summons issued</td>\n",
              "      <td>Substantiated (Charges)</td>\n",
              "    </tr>\n",
              "    <tr>\n",
              "      <th>2</th>\n",
              "      <td>10007</td>\n",
              "      <td>John</td>\n",
              "      <td>Sears</td>\n",
              "      <td>078 PCT</td>\n",
              "      <td>5952</td>\n",
              "      <td>24601</td>\n",
              "      <td>11</td>\n",
              "      <td>2011</td>\n",
              "      <td>8</td>\n",
              "      <td>2012</td>\n",
              "      <td>PBBS</td>\n",
              "      <td>POM</td>\n",
              "      <td>POM</td>\n",
              "      <td>Police Officer</td>\n",
              "      <td>Police Officer</td>\n",
              "      <td>White</td>\n",
              "      <td>M</td>\n",
              "      <td>24</td>\n",
              "      <td>Black</td>\n",
              "      <td>Male</td>\n",
              "      <td>26.0</td>\n",
              "      <td>Offensive Language</td>\n",
              "      <td>Race</td>\n",
              "      <td>67.0</td>\n",
              "      <td>Moving violation</td>\n",
              "      <td>Moving violation summons issued</td>\n",
              "      <td>Substantiated (Charges)</td>\n",
              "    </tr>\n",
              "    <tr>\n",
              "      <th>3</th>\n",
              "      <td>10007</td>\n",
              "      <td>John</td>\n",
              "      <td>Sears</td>\n",
              "      <td>078 PCT</td>\n",
              "      <td>5952</td>\n",
              "      <td>26146</td>\n",
              "      <td>7</td>\n",
              "      <td>2012</td>\n",
              "      <td>9</td>\n",
              "      <td>2013</td>\n",
              "      <td>PBBS</td>\n",
              "      <td>POM</td>\n",
              "      <td>POM</td>\n",
              "      <td>Police Officer</td>\n",
              "      <td>Police Officer</td>\n",
              "      <td>White</td>\n",
              "      <td>M</td>\n",
              "      <td>25</td>\n",
              "      <td>Black</td>\n",
              "      <td>Male</td>\n",
              "      <td>45.0</td>\n",
              "      <td>Abuse of Authority</td>\n",
              "      <td>Question</td>\n",
              "      <td>67.0</td>\n",
              "      <td>PD suspected C/V of violation/crime - street</td>\n",
              "      <td>No arrest made or summons issued</td>\n",
              "      <td>Substantiated (Charges)</td>\n",
              "    </tr>\n",
              "    <tr>\n",
              "      <th>4</th>\n",
              "      <td>10009</td>\n",
              "      <td>Noemi</td>\n",
              "      <td>Sierra</td>\n",
              "      <td>078 PCT</td>\n",
              "      <td>24058</td>\n",
              "      <td>40253</td>\n",
              "      <td>8</td>\n",
              "      <td>2018</td>\n",
              "      <td>2</td>\n",
              "      <td>2019</td>\n",
              "      <td>078 PCT</td>\n",
              "      <td>POF</td>\n",
              "      <td>POF</td>\n",
              "      <td>Police Officer</td>\n",
              "      <td>Police Officer</td>\n",
              "      <td>Hispanic</td>\n",
              "      <td>F</td>\n",
              "      <td>39</td>\n",
              "      <td>NaN</td>\n",
              "      <td>NaN</td>\n",
              "      <td>16.0</td>\n",
              "      <td>Force</td>\n",
              "      <td>Physical force</td>\n",
              "      <td>67.0</td>\n",
              "      <td>Report-dispute</td>\n",
              "      <td>Arrest - other violation/crime</td>\n",
              "      <td>Substantiated (Command Discipline A)</td>\n",
              "    </tr>\n",
              "  </tbody>\n",
              "</table>\n",
              "</div>"
            ],
            "text/plain": [
              "   unique_mos_id  ...                         board_disposition\n",
              "0          10004  ...  Substantiated (Command Lvl Instructions)\n",
              "1          10007  ...                   Substantiated (Charges)\n",
              "2          10007  ...                   Substantiated (Charges)\n",
              "3          10007  ...                   Substantiated (Charges)\n",
              "4          10009  ...      Substantiated (Command Discipline A)\n",
              "\n",
              "[5 rows x 27 columns]"
            ]
          },
          "metadata": {
            "tags": []
          },
          "execution_count": 32
        }
      ]
    },
    {
      "cell_type": "markdown",
      "metadata": {
        "id": "J5x_v5zz0mCk"
      },
      "source": [
        "### Baseline Model"
      ]
    },
    {
      "cell_type": "markdown",
      "metadata": {
        "id": "rNkbKgGswCCB"
      },
      "source": [
        "Before we get to the baseline, we will clean up some of the strings in the complainant gender column in order to clearly differ between Male and Female genders."
      ]
    },
    {
      "cell_type": "code",
      "metadata": {
        "id": "n5rBtFqUEBZ4"
      },
      "source": [
        "def m_or_w(x):\n",
        "    if str(x) == 'Male':\n",
        "        return 'Male'\n",
        "    elif str(x) == 'Transman (FTM)':\n",
        "        return 'Male'\n",
        "    elif str(x) == 'Female':\n",
        "        return 'Female'\n",
        "    elif str(x) == 'Transwoman (MTF)':\n",
        "        return 'Female'\n",
        "    else:\n",
        "        return np.NaN"
      ],
      "execution_count": null,
      "outputs": []
    },
    {
      "cell_type": "code",
      "metadata": {
        "colab": {
          "base_uri": "https://localhost:8080/",
          "height": 394
        },
        "id": "qQxLM2KDEGPR",
        "outputId": "56db8aa8-3f6d-43bc-c5bd-caf2de0a3116"
      },
      "source": [
        "cleaned['complainant_gender'] = cleaned['complainant_gender'].apply(m_or_w)\n",
        "cleaned = cleaned.dropna() # Drops 33358 - 27176 = 6182 rows\n",
        "cleaned.head()"
      ],
      "execution_count": null,
      "outputs": [
        {
          "output_type": "execute_result",
          "data": {
            "text/html": [
              "<div>\n",
              "<style scoped>\n",
              "    .dataframe tbody tr th:only-of-type {\n",
              "        vertical-align: middle;\n",
              "    }\n",
              "\n",
              "    .dataframe tbody tr th {\n",
              "        vertical-align: top;\n",
              "    }\n",
              "\n",
              "    .dataframe thead th {\n",
              "        text-align: right;\n",
              "    }\n",
              "</style>\n",
              "<table border=\"1\" class=\"dataframe\">\n",
              "  <thead>\n",
              "    <tr style=\"text-align: right;\">\n",
              "      <th></th>\n",
              "      <th>unique_mos_id</th>\n",
              "      <th>first_name</th>\n",
              "      <th>last_name</th>\n",
              "      <th>command_now</th>\n",
              "      <th>shield_no</th>\n",
              "      <th>complaint_id</th>\n",
              "      <th>month_received</th>\n",
              "      <th>year_received</th>\n",
              "      <th>month_closed</th>\n",
              "      <th>year_closed</th>\n",
              "      <th>command_at_incident</th>\n",
              "      <th>rank_abbrev_incident</th>\n",
              "      <th>rank_abbrev_now</th>\n",
              "      <th>rank_now</th>\n",
              "      <th>rank_incident</th>\n",
              "      <th>mos_ethnicity</th>\n",
              "      <th>mos_gender</th>\n",
              "      <th>mos_age_incident</th>\n",
              "      <th>complainant_ethnicity</th>\n",
              "      <th>complainant_gender</th>\n",
              "      <th>complainant_age_incident</th>\n",
              "      <th>fado_type</th>\n",
              "      <th>allegation</th>\n",
              "      <th>precinct</th>\n",
              "      <th>contact_reason</th>\n",
              "      <th>outcome_description</th>\n",
              "      <th>board_disposition</th>\n",
              "    </tr>\n",
              "  </thead>\n",
              "  <tbody>\n",
              "    <tr>\n",
              "      <th>0</th>\n",
              "      <td>10004</td>\n",
              "      <td>Jonathan</td>\n",
              "      <td>Ruiz</td>\n",
              "      <td>078 PCT</td>\n",
              "      <td>8409</td>\n",
              "      <td>42835</td>\n",
              "      <td>7</td>\n",
              "      <td>2019</td>\n",
              "      <td>5</td>\n",
              "      <td>2020</td>\n",
              "      <td>078 PCT</td>\n",
              "      <td>POM</td>\n",
              "      <td>POM</td>\n",
              "      <td>Police Officer</td>\n",
              "      <td>Police Officer</td>\n",
              "      <td>Hispanic</td>\n",
              "      <td>M</td>\n",
              "      <td>32</td>\n",
              "      <td>Black</td>\n",
              "      <td>Female</td>\n",
              "      <td>38.0</td>\n",
              "      <td>Abuse of Authority</td>\n",
              "      <td>Failure to provide RTKA card</td>\n",
              "      <td>78.0</td>\n",
              "      <td>Report-domestic dispute</td>\n",
              "      <td>No arrest made or summons issued</td>\n",
              "      <td>Substantiated (Command Lvl Instructions)</td>\n",
              "    </tr>\n",
              "    <tr>\n",
              "      <th>1</th>\n",
              "      <td>10007</td>\n",
              "      <td>John</td>\n",
              "      <td>Sears</td>\n",
              "      <td>078 PCT</td>\n",
              "      <td>5952</td>\n",
              "      <td>24601</td>\n",
              "      <td>11</td>\n",
              "      <td>2011</td>\n",
              "      <td>8</td>\n",
              "      <td>2012</td>\n",
              "      <td>PBBS</td>\n",
              "      <td>POM</td>\n",
              "      <td>POM</td>\n",
              "      <td>Police Officer</td>\n",
              "      <td>Police Officer</td>\n",
              "      <td>White</td>\n",
              "      <td>M</td>\n",
              "      <td>24</td>\n",
              "      <td>Black</td>\n",
              "      <td>Male</td>\n",
              "      <td>26.0</td>\n",
              "      <td>Discourtesy</td>\n",
              "      <td>Action</td>\n",
              "      <td>67.0</td>\n",
              "      <td>Moving violation</td>\n",
              "      <td>Moving violation summons issued</td>\n",
              "      <td>Substantiated (Charges)</td>\n",
              "    </tr>\n",
              "    <tr>\n",
              "      <th>2</th>\n",
              "      <td>10007</td>\n",
              "      <td>John</td>\n",
              "      <td>Sears</td>\n",
              "      <td>078 PCT</td>\n",
              "      <td>5952</td>\n",
              "      <td>24601</td>\n",
              "      <td>11</td>\n",
              "      <td>2011</td>\n",
              "      <td>8</td>\n",
              "      <td>2012</td>\n",
              "      <td>PBBS</td>\n",
              "      <td>POM</td>\n",
              "      <td>POM</td>\n",
              "      <td>Police Officer</td>\n",
              "      <td>Police Officer</td>\n",
              "      <td>White</td>\n",
              "      <td>M</td>\n",
              "      <td>24</td>\n",
              "      <td>Black</td>\n",
              "      <td>Male</td>\n",
              "      <td>26.0</td>\n",
              "      <td>Offensive Language</td>\n",
              "      <td>Race</td>\n",
              "      <td>67.0</td>\n",
              "      <td>Moving violation</td>\n",
              "      <td>Moving violation summons issued</td>\n",
              "      <td>Substantiated (Charges)</td>\n",
              "    </tr>\n",
              "    <tr>\n",
              "      <th>3</th>\n",
              "      <td>10007</td>\n",
              "      <td>John</td>\n",
              "      <td>Sears</td>\n",
              "      <td>078 PCT</td>\n",
              "      <td>5952</td>\n",
              "      <td>26146</td>\n",
              "      <td>7</td>\n",
              "      <td>2012</td>\n",
              "      <td>9</td>\n",
              "      <td>2013</td>\n",
              "      <td>PBBS</td>\n",
              "      <td>POM</td>\n",
              "      <td>POM</td>\n",
              "      <td>Police Officer</td>\n",
              "      <td>Police Officer</td>\n",
              "      <td>White</td>\n",
              "      <td>M</td>\n",
              "      <td>25</td>\n",
              "      <td>Black</td>\n",
              "      <td>Male</td>\n",
              "      <td>45.0</td>\n",
              "      <td>Abuse of Authority</td>\n",
              "      <td>Question</td>\n",
              "      <td>67.0</td>\n",
              "      <td>PD suspected C/V of violation/crime - street</td>\n",
              "      <td>No arrest made or summons issued</td>\n",
              "      <td>Substantiated (Charges)</td>\n",
              "    </tr>\n",
              "    <tr>\n",
              "      <th>5</th>\n",
              "      <td>10012</td>\n",
              "      <td>Paula</td>\n",
              "      <td>Smith</td>\n",
              "      <td>078 PCT</td>\n",
              "      <td>4021</td>\n",
              "      <td>37256</td>\n",
              "      <td>5</td>\n",
              "      <td>2017</td>\n",
              "      <td>10</td>\n",
              "      <td>2017</td>\n",
              "      <td>078 PCT</td>\n",
              "      <td>SGT</td>\n",
              "      <td>SGT</td>\n",
              "      <td>Sergeant</td>\n",
              "      <td>Sergeant</td>\n",
              "      <td>Black</td>\n",
              "      <td>F</td>\n",
              "      <td>50</td>\n",
              "      <td>White</td>\n",
              "      <td>Male</td>\n",
              "      <td>31.0</td>\n",
              "      <td>Abuse of Authority</td>\n",
              "      <td>Refusal to process civilian complaint</td>\n",
              "      <td>78.0</td>\n",
              "      <td>C/V telephoned PCT</td>\n",
              "      <td>No arrest made or summons issued</td>\n",
              "      <td>Substantiated (Command Lvl Instructions)</td>\n",
              "    </tr>\n",
              "  </tbody>\n",
              "</table>\n",
              "</div>"
            ],
            "text/plain": [
              "   unique_mos_id  ...                         board_disposition\n",
              "0          10004  ...  Substantiated (Command Lvl Instructions)\n",
              "1          10007  ...                   Substantiated (Charges)\n",
              "2          10007  ...                   Substantiated (Charges)\n",
              "3          10007  ...                   Substantiated (Charges)\n",
              "5          10012  ...  Substantiated (Command Lvl Instructions)\n",
              "\n",
              "[5 rows x 27 columns]"
            ]
          },
          "metadata": {
            "tags": []
          },
          "execution_count": 34
        }
      ]
    },
    {
      "cell_type": "markdown",
      "metadata": {
        "id": "MA9MmsN6wcm_"
      },
      "source": [
        "Now, we will take our cleaned dataset and select only the features that we believe have influence on the age of the complainant. The features are the gender and age of the officer, and the gender of the complainant, to start our Baseline Model off. We will then split them into train and test sets, with train set size of 75%, and test set size of 25%."
      ]
    },
    {
      "cell_type": "code",
      "metadata": {
        "id": "_LKlpgKKH3NC",
        "colab": {
          "base_uri": "https://localhost:8080/",
          "height": 204
        },
        "outputId": "1a91e24e-cd04-41d5-e655-112955d946ad"
      },
      "source": [
        "feats = ['mos_gender', 'mos_age_incident', 'complainant_gender']\n",
        "\n",
        "X = cleaned[feats]\n",
        "y = cleaned['complainant_age_incident']\n",
        "\n",
        "from sklearn.model_selection import train_test_split\n",
        "X_train, X_test, y_train, y_test = train_test_split(X, y, test_size=0.25, random_state=80)\n",
        "X_train.head()"
      ],
      "execution_count": null,
      "outputs": [
        {
          "output_type": "execute_result",
          "data": {
            "text/html": [
              "<div>\n",
              "<style scoped>\n",
              "    .dataframe tbody tr th:only-of-type {\n",
              "        vertical-align: middle;\n",
              "    }\n",
              "\n",
              "    .dataframe tbody tr th {\n",
              "        vertical-align: top;\n",
              "    }\n",
              "\n",
              "    .dataframe thead th {\n",
              "        text-align: right;\n",
              "    }\n",
              "</style>\n",
              "<table border=\"1\" class=\"dataframe\">\n",
              "  <thead>\n",
              "    <tr style=\"text-align: right;\">\n",
              "      <th></th>\n",
              "      <th>mos_gender</th>\n",
              "      <th>mos_age_incident</th>\n",
              "      <th>complainant_gender</th>\n",
              "    </tr>\n",
              "  </thead>\n",
              "  <tbody>\n",
              "    <tr>\n",
              "      <th>4282</th>\n",
              "      <td>M</td>\n",
              "      <td>44</td>\n",
              "      <td>Male</td>\n",
              "    </tr>\n",
              "    <tr>\n",
              "      <th>10674</th>\n",
              "      <td>M</td>\n",
              "      <td>31</td>\n",
              "      <td>Male</td>\n",
              "    </tr>\n",
              "    <tr>\n",
              "      <th>8817</th>\n",
              "      <td>M</td>\n",
              "      <td>31</td>\n",
              "      <td>Female</td>\n",
              "    </tr>\n",
              "    <tr>\n",
              "      <th>20629</th>\n",
              "      <td>M</td>\n",
              "      <td>23</td>\n",
              "      <td>Male</td>\n",
              "    </tr>\n",
              "    <tr>\n",
              "      <th>16370</th>\n",
              "      <td>M</td>\n",
              "      <td>40</td>\n",
              "      <td>Male</td>\n",
              "    </tr>\n",
              "  </tbody>\n",
              "</table>\n",
              "</div>"
            ],
            "text/plain": [
              "      mos_gender  mos_age_incident complainant_gender\n",
              "4282           M                44               Male\n",
              "10674          M                31               Male\n",
              "8817           M                31             Female\n",
              "20629          M                23               Male\n",
              "16370          M                40               Male"
            ]
          },
          "metadata": {
            "tags": []
          },
          "execution_count": 60
        }
      ]
    },
    {
      "cell_type": "markdown",
      "metadata": {
        "id": "VuBlGlQRwuNv"
      },
      "source": [
        "For our Baseline Model, we will be using One-Hot encoding on the officer and complainant gender columns, and leaving the officer age column alone, as this one is quantitative. We will then perform Linear Regression, fit the entire pipeline to our train set, and see our R^2 results on the test set."
      ]
    },
    {
      "cell_type": "code",
      "metadata": {
        "colab": {
          "base_uri": "https://localhost:8080/"
        },
        "id": "pntPzmOJEpky",
        "outputId": "bd911c25-8524-4d51-894f-0d5de9c5e85f"
      },
      "source": [
        "from sklearn.pipeline import Pipeline\n",
        "from sklearn.preprocessing import OneHotEncoder\n",
        "from sklearn.linear_model import LinearRegression\n",
        "from sklearn.compose import ColumnTransformer\n",
        "\n",
        "feats = ['mos_gender', 'complainant_gender']\n",
        "feats_transformer = OneHotEncoder()\n",
        "preproc = ColumnTransformer(transformers=[('onehot', feats_transformer, feats)])\n",
        "\n",
        "pl = Pipeline([('one-hot', preproc), ('lin-reg', LinearRegression())])\n",
        "pl.fit(X_train, y_train)\n",
        "\n",
        "# R^2\n",
        "r2 = pl.score(X_test, y_test)\n",
        "print(\"R^2: \" + str(r2))"
      ],
      "execution_count": null,
      "outputs": [
        {
          "output_type": "stream",
          "text": [
            "R^2: 0.01640671497490509\n"
          ],
          "name": "stdout"
        }
      ]
    },
    {
      "cell_type": "markdown",
      "metadata": {
        "id": "6LLrQSGnz9Cj"
      },
      "source": [
        "We see above that we get a low R^2 value of 1.64%. Let's see the Root Means Squared Error for our predictions on the test set:"
      ]
    },
    {
      "cell_type": "code",
      "metadata": {
        "colab": {
          "base_uri": "https://localhost:8080/"
        },
        "id": "p4CKrMcXLIpQ",
        "outputId": "d45a2452-2ea4-4e2b-9a0f-5611a8582a0e"
      },
      "source": [
        "pred_test = pl.predict(X_test)\n",
        "rmse_test = np.sqrt(np.mean((pred_test - y_test)**2))\n",
        "print(\"RMSE: \" + str(rmse_test))"
      ],
      "execution_count": null,
      "outputs": [
        {
          "output_type": "stream",
          "text": [
            "RMSE: 11.955282233568317\n"
          ],
          "name": "stdout"
        }
      ]
    },
    {
      "cell_type": "markdown",
      "metadata": {
        "id": "Nv2MejDg0N3T"
      },
      "source": [
        "We see that we get RMSE of approximately 11.95 ."
      ]
    },
    {
      "cell_type": "markdown",
      "metadata": {
        "id": "Uo5Sl3AR0mCm"
      },
      "source": [
        "### Final Model"
      ]
    },
    {
      "cell_type": "markdown",
      "metadata": {
        "id": "dXHReyDt0zw4"
      },
      "source": [
        "For our Final Model, we have decided to keep our OneHot encoder from the baseline model, as well as producing two engineered features.\n",
        "> \n",
        "Specifically, we will be standardizing the officer age column, as well as Binarizing the officer age column (age > 32 is represented as 1, and age <= 32 is represented as 0) in order to get two engineered features. For our regression model, we have gone with the Decision Tree Regressor because this regressor uses a decision tree to fit the patterns in the data."
      ]
    },
    {
      "cell_type": "code",
      "metadata": {
        "id": "D5hWb10HT4Sa"
      },
      "source": [
        "import sklearn.preprocessing as pp\n",
        "from sklearn.tree import DecisionTreeRegressor"
      ],
      "execution_count": null,
      "outputs": []
    },
    {
      "cell_type": "code",
      "metadata": {
        "id": "Ma_Zi6Bpgw4D"
      },
      "source": [
        "std_feat = ['mos_age_incident']\n",
        "std_transformer = Pipeline(steps=[('scaler', pp.StandardScaler())])\n",
        "\n",
        "bin_feat = ['mos_age_incident']\n",
        "bin_transformer = Pipeline(steps=[('binarizer', pp.Binarizer(32))])\n",
        "\n",
        "others_feat = ['mos_gender', 'complainant_gender']\n",
        "others_transformer = Pipeline(steps=[('ohe', OneHotEncoder())])\n",
        "\n",
        "preproc = ColumnTransformer(transformers=[('std', std_transformer, std_feat), ('bin', bin_transformer, bin_feat), ('others', others_transformer, others_feat)])\n",
        "\n",
        "pl2 = Pipeline(steps=[('preprocessor', preproc), ('regressor', DecisionTreeRegressor())])"
      ],
      "execution_count": null,
      "outputs": []
    },
    {
      "cell_type": "code",
      "metadata": {
        "colab": {
          "base_uri": "https://localhost:8080/"
        },
        "id": "1DSIbKKZhuLa",
        "outputId": "caa2e009-8d87-474f-832c-164110d4ce29"
      },
      "source": [
        "pl2.fit(X_train, y_train)\n",
        "\n",
        "rtwo = pl2.score(X_test, y_test)\n",
        "print(\"R^2: \" + str(rtwo))\n",
        "\n",
        "pred_test = pl2.predict(X_test)\n",
        "rmse_test = np.sqrt(np.mean((pred_test - y_test)**2))\n",
        "print(\"RMSE: \" + str(rmse_test))"
      ],
      "execution_count": null,
      "outputs": [
        {
          "output_type": "stream",
          "text": [
            "R^2: 0.01363617540516182\n",
            "RMSE: 11.972107933405933\n"
          ],
          "name": "stdout"
        }
      ]
    },
    {
      "cell_type": "markdown",
      "metadata": {
        "id": "-lH7R-9s3brN"
      },
      "source": [
        "So as shown, we see that our new pipeline gives us a R^2 of 1.36%, as well as an RMSE of 11.972 .\n",
        ">\n",
        "In an effort to improve these results, we will perform a GridSearch on the DecisionTreeRegressor parameters, focusing on the parameters max_depth, min_samples_split, min_samples_leaf, and max_leaf_nodes, in order to determine which combination of parameter values will yield us the best test results."
      ]
    },
    {
      "cell_type": "code",
      "metadata": {
        "id": "03cBiwz10mCn",
        "colab": {
          "base_uri": "https://localhost:8080/"
        },
        "outputId": "43052195-8d26-4bbb-b74e-9d362e31fbca"
      },
      "source": [
        "from sklearn.model_selection import GridSearchCV\n",
        "\n",
        "parameters = {\n",
        "    'max_depth': [2,3,4,5,7,10,13,15,18,None],\n",
        "    'min_samples_split': [2,3,5,7,10,15,20],\n",
        "    'min_samples_leaf': [1,2,3,5,7,10,15,20],\n",
        "    'max_leaf_nodes': np.arange(5,51,5)\n",
        "}\n",
        "\n",
        "arraye = pl2.named_steps['preprocessor'].transform(X_train)\n",
        "firststep = pd.DataFrame(arraye, columns=['std_scaler_mosage', 'is_older32', 'is_mosFemale', 'is_mosMale', 'is_complainantFemale', 'is_complainantMale'])\n",
        "\n",
        "clf = GridSearchCV(DecisionTreeRegressor(), parameters, cv = 5)\n",
        "clf.fit(firststep, y_train)\n",
        "\n",
        "clf.best_params_"
      ],
      "execution_count": null,
      "outputs": [
        {
          "output_type": "execute_result",
          "data": {
            "text/plain": [
              "{'max_depth': 13,\n",
              " 'max_leaf_nodes': 40,\n",
              " 'min_samples_leaf': 2,\n",
              " 'min_samples_split': 2}"
            ]
          },
          "metadata": {
            "tags": []
          },
          "execution_count": 41
        }
      ]
    },
    {
      "cell_type": "markdown",
      "metadata": {
        "id": "Cei1rA4_4P00"
      },
      "source": [
        "Here, we see that our GridSearch tells us that the best parameters are:\n",
        "> \n",
        "'max_depth': 13, \n",
        "> \n",
        "'min_samples_leaf': 2\n",
        ">\n",
        " 'min_samples_split': 2\n",
        "> \n",
        "'max_leaf_nodes': 40\n",
        "> \n",
        "\n",
        "\n",
        "Let's see if these parameters improve our results.\n"
      ]
    },
    {
      "cell_type": "code",
      "metadata": {
        "colab": {
          "base_uri": "https://localhost:8080/"
        },
        "id": "qZGZcEG24oyd",
        "outputId": "8ef9fe59-6b9f-4928-d4aa-5d27d4332be3"
      },
      "source": [
        "pl2 = Pipeline(steps=[('preprocessor', preproc), ('regressor', DecisionTreeRegressor(max_depth=13, min_samples_leaf=2, min_samples_split=2, max_leaf_nodes=40))])\n",
        "pl2.fit(X_train, y_train)\n",
        "\n",
        "rtwo = pl2.score(X_test, y_test)\n",
        "print(\"R^2: \" + str(rtwo))\n",
        "\n",
        "pred_test = pl2.predict(X_test)\n",
        "rmse_test = np.sqrt(np.mean((pred_test - y_test)**2))\n",
        "print(\"RMSE: \" + str(rmse_test))"
      ],
      "execution_count": null,
      "outputs": [
        {
          "output_type": "stream",
          "text": [
            "R^2: 0.017769661807690684\n",
            "RMSE: 11.946996256562356\n"
          ],
          "name": "stdout"
        }
      ]
    },
    {
      "cell_type": "markdown",
      "metadata": {
        "id": "TTBsN-AP-S87"
      },
      "source": [
        "Here, we can see that the parameters did, in fact, improve our results, as R^2 has improved by approx. .4%, and the RMS Error has decreased by .02 ."
      ]
    },
    {
      "cell_type": "markdown",
      "metadata": {
        "id": "l4qCjf9k0mCp"
      },
      "source": [
        "### Fairness Evaluation"
      ]
    },
    {
      "cell_type": "markdown",
      "metadata": {
        "id": "JNLZHDf_zBcR"
      },
      "source": [
        "Here we are creating the results dataframe that we will be using for the permutation test. This is done by taking the original X_test variable and adding columns with the predictions and tags."
      ]
    },
    {
      "cell_type": "code",
      "metadata": {
        "id": "Z8f438p40mCq"
      },
      "source": [
        "preds = pl2.predict(X_test)\n",
        "results = X_test\n",
        "results['prediction'] = preds\n",
        "results['tag'] = y_test"
      ],
      "execution_count": null,
      "outputs": []
    },
    {
      "cell_type": "code",
      "metadata": {
        "id": "siGpNbLQqmi6"
      },
      "source": [
        "# Identifying old officers as those that are older than 30 and young ones as those who are 30 years old or younger.\n",
        "results['is_young'] = (results.mos_age_incident <= 30).replace({True:'young', False:'old'})"
      ],
      "execution_count": null,
      "outputs": []
    },
    {
      "cell_type": "markdown",
      "metadata": {
        "id": "Y3kgBP5CzeY3"
      },
      "source": [
        "In the permutation test, we are using the R^2 value as our fairness measure because we cannot use the typical metrics as we are evaluating a regression problem. The two subsets that we are looking at the difference between are the old officers and young ones. Our null hypothesis is that our model is fair as a result of the difference of R^2 values being similar. On the other hand, the alternate hypothesis is that the model is not fair."
      ]
    },
    {
      "cell_type": "code",
      "metadata": {
        "id": "o080IeC-qv6d"
      },
      "source": [
        "# Observed difference between the different R^2 values.\n",
        "obs = pl2.score(results[results['is_young'] == 'old'], results[results['is_young'] == 'old'].tag) - pl2.score(results[results['is_young'] == 'young'], results[results['is_young'] == 'young'].tag)\n",
        "\n",
        "metrs = []\n",
        "for _ in range(100):\n",
        "    # Sampling to get simulated difference in R^2 values.\n",
        "    changed = results.assign(is_young=results.is_young.sample(frac=1.0, replace=False).reset_index(drop=True))\n",
        "    metr = pl2.score(changed[changed['is_young'] == 'old'], changed[changed['is_young'] == 'old'].tag) - pl2.score(changed[changed['is_young'] == 'young'], changed[changed['is_young'] == 'young'].tag)\n",
        "    metrs.append(metr)"
      ],
      "execution_count": null,
      "outputs": []
    },
    {
      "cell_type": "markdown",
      "metadata": {
        "id": "do09DLmJ0bDH"
      },
      "source": [
        "With a P-value of around 0.42, we fail to reject the null hypothesis as 0.42 is greater than the significance level we set at 0.05. This leads us to believe that under our permutation test, our model is fair when looking at the subsets of old officers vs young ones."
      ]
    },
    {
      "cell_type": "code",
      "metadata": {
        "colab": {
          "base_uri": "https://localhost:8080/"
        },
        "id": "RfnibCnyqzrR",
        "outputId": "91f9a561-79df-4c32-f018-e6f31ff3f1ca"
      },
      "source": [
        "# Calculating the p-value.\n",
        "pval = pd.Series(metrs <= obs).mean()\n",
        "pval"
      ],
      "execution_count": null,
      "outputs": [
        {
          "output_type": "execute_result",
          "data": {
            "text/plain": [
              "0.44"
            ]
          },
          "metadata": {
            "tags": []
          },
          "execution_count": 59
        }
      ]
    }
  ]
}